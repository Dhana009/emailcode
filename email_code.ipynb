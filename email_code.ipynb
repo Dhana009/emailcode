{
  "nbformat": 4,
  "nbformat_minor": 0,
  "metadata": {
    "colab": {
      "provenance": []
    },
    "kernelspec": {
      "name": "python3",
      "display_name": "Python 3"
    },
    "language_info": {
      "name": "python"
    }
  },
  "cells": [
    {
      "cell_type": "code",
      "source": [
        "import pandas as pd"
      ],
      "metadata": {
        "id": "YfqbQLwAivqf"
      },
      "execution_count": 11,
      "outputs": []
    },
    {
      "cell_type": "code",
      "source": [
        "x = pd.read_csv('https://raw.githubusercontent.com/Dhana009/Django-Project-Taskmate/master/emails%20-%20Sheet1.csv')"
      ],
      "metadata": {
        "id": "b88sWJrrivtZ"
      },
      "execution_count": 13,
      "outputs": []
    },
    {
      "cell_type": "code",
      "source": [
        "import smtplib\n",
        "import ssl\n",
        "from email.mime.multipart import MIMEMultipart\n",
        "from email.mime.text import MIMEText\n",
        "import pandas as pd\n",
        "\n",
        "# Define email sender and credentials\n",
        "email_sender = 'dhanamani817@gmail.com'\n",
        "email_password = 'sosplbavpwlsllcy'\n",
        "\n",
        "# Set the subject and body of the email\n",
        "subject = 'email sent from Python'\n",
        "body = \"\"\"\n",
        "This email is being sent from the Python code as a way to test whether the code is functioning correctly.\n",
        "\n",
        "here's some random text:\n",
        "\n",
        "\"The curious cat leaped gracefully onto the weathered fence, its eyes gleaming with mischief as it surveyed the surroundings.\n",
        "A gentle breeze rustled the leaves, and the distant sound of laughter carried on the wind.\n",
        "The world seemed to pause in that fleeting moment, as if holding its breath in anticipation of the stories waiting to unfold.\"\n",
        "\n",
        "if interested check out this link : https://www.sproutsai.com/\n",
        "\n",
        "Best regards,\n",
        "Dhanunjaya\n",
        "\"\"\"\n",
        "\n",
        "# Read email addresses from CSV file\n",
        "csv_url = 'https://raw.githubusercontent.com/Dhana009/Django-Project-Taskmate/master/emails%20-%20Sheet1.csv'\n",
        "df = pd.read_csv(csv_url)\n",
        "email_receivers = df['email_address'].tolist()\n",
        "\n",
        "# Create the email\n",
        "em = MIMEMultipart()\n",
        "em['From'] = email_sender\n",
        "em['Subject'] = subject\n",
        "em.attach(MIMEText(body, 'plain'))\n",
        "\n",
        "# Add SSL (layer of security)\n",
        "context = ssl.create_default_context()\n",
        "\n",
        "# Log in and send the email to multiple recipients\n",
        "with smtplib.SMTP_SSL('smtp.gmail.com', 465, context=context) as smtp:\n",
        "    smtp.login(email_sender, email_password)\n",
        "    em['To'] = ', '.join(email_receivers)  # Set the 'To' header once\n",
        "\n",
        "    smtp.sendmail(email_sender, email_receivers, em.as_string())  # Send the email to multiple recipients\n",
        "    print(\"Email sent successfully to:\", ', '.join(email_receivers))\n"
      ],
      "metadata": {
        "colab": {
          "base_uri": "https://localhost:8080/"
        },
        "id": "3ct0FTE_ivwD",
        "outputId": "a753d12a-9a5f-4fa1-f30f-f42464960dc3"
      },
      "execution_count": 21,
      "outputs": [
        {
          "output_type": "stream",
          "name": "stdout",
          "text": [
            "Email sent successfully to: Dhanan009@gmail.com, saivinay997@gmail.com, jitender@sproutsai.com, saivinay@sproutsai.com, sai8121999war@gmail.com, saikatbank101@gmail.com, santu@sproutsai.com\n"
          ]
        }
      ]
    }
  ]
}